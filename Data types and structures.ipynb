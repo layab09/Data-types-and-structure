{
 "cells": [
  {
   "cell_type": "raw",
   "id": "73e45bd2-0c63-4d88-88cc-b61a39352df6",
   "metadata": {},
   "source": [
    "1. What are data structures, and why are they important?\n",
    "Data structures are ways of organizing and storing data efficiently so that operations like accessing, inserting, deleting, and modifying data can be performed effectively. They are essential for optimizing code performance and enabling effective solutions to complex problems. Proper use of data structures can improve time complexity and memory usage.\n",
    "\n",
    "2. Explain the difference between mutable and immutable data types with examples\n",
    "Mutable data types: These are types of data whose values can be changed after they are created. Example: Lists, dictionaries, and sets in Python.\n",
    "\n",
    "lst = [1, 2, 3]\n",
    "lst[0] = 10  # List is mutable\n",
    "\n",
    "Immutable data types: These are types whose values cannot be changed after creation. Example: Strings, tuples, and numbers in Python.\n",
    "tup = (1, 2, 3)\n",
    "# tup[0] = 10  # This will raise an error because tuples are immutable\n",
    "\n",
    "3. What are the main differences between lists and tuples in Python?\n",
    "Mutability: Lists are mutable, meaning their contents can be changed, while tuples are immutable.\n",
    "Syntax: Lists are created with square brackets [], while tuples are created with parentheses ().\n",
    "Performance: Tuples are generally faster than lists due to their immutability.\n",
    "Use cases: Lists are used when data may need to be modified, and tuples are used for fixed collections of items, ensuring data integrity.\n",
    "\n",
    "4. Describe how dictionaries store data\n",
    "Dictionaries in Python store data as key-value pairs. The keys are unique identifiers, and each key maps to a specific value. They are implemented using hash tables, allowing for efficient retrieval of values based on their keys.\n",
    "\n",
    "5. Why might you use a set instead of a list in Python?\n",
    "A set is preferred over a list when you need to store unique elements, as sets automatically eliminate duplicate values. Additionally, sets provide faster membership tests (in keyword) and are more efficient for operations like union, intersection, and difference.\n",
    "\n",
    "6. What is a string in Python, and how is it different from a list?\n",
    "A string in Python is a sequence of characters, typically used to represent text. It is immutable, meaning once created, its value cannot be changed. A list, on the other hand, is a mutable collection that can contain elements of any type, and its content can be modified.\n",
    "\n",
    "7. How do tuples ensure data integrity in Python?\n",
    "Tuples are immutable, which means that once created, their data cannot be changed. This immutability ensures that the data remains intact and cannot be accidentally modified, making them suitable for use cases where data integrity is important.\n",
    "\n",
    "8. What is a hash table, and how does it relate to dictionaries in Python?\n",
    "A hash table is a data structure that stores data in key-value pairs, where each key is hashed into an index of an array for efficient access. In Python, dictionaries are implemented using hash tables, allowing for fast lookups and insertions.\n",
    "\n",
    "9. Can lists contain different data types in Python?\n",
    "Yes, lists in Python can contain elements of different data types. A single list can have integers, strings, floats, and other data types together.\n",
    "\n",
    "my_list = [1, \"hello\", 3.14, True]\n",
    "\n",
    "10. Explain why strings are immutable in Python.\n",
    "Strings are immutable in Python for performance reasons. Immutability allows for better memory management and faster processing since multiple references to the same string can share memory, avoiding unnecessary copying. Additionally, it ensures that string data remains unchanged throughout the program.\n",
    "\n",
    "11. What advantages do dictionaries offer over lists for certain tasks?\n",
    "Dictionaries are more efficient than lists when you need to look up data using a unique key. They provide constant time complexity (O(1)) for lookups, while lists require linear time complexity (O(n)) for searching through elements.\n",
    "\n",
    "12. Describe a scenario where using a tuple would be preferable over a list.\n",
    "A tuple is preferable when you need a fixed collection of items that should not be changed, such as coordinates (x, y, z) or a configuration setting that shouldn't be altered during execution. Tuples guarantee data integrity because they are immutable.\n",
    "\n",
    "13. How do sets handle duplicate values in Python?\n",
    "Sets automatically eliminate duplicate values. If you attempt to add a duplicate element to a set, it will not be added.\n",
    "\n",
    "my_set = {1, 2, 3, 3}\n",
    "# my_set will be {1, 2, 3}, duplicates are removed\n",
    "14. How does the \"in\" keyword work differently for lists and dictionaries?\n",
    "For a list, the in keyword checks if an element exists in the list. It performs a linear search, making it slower for large lists.\n",
    "\n",
    "\n",
    "my_list = [1, 2, 3]\n",
    "2 in my_list  # Returns True\n",
    "For a dictionary, the in keyword checks if a key exists in the dictionary, and it uses hashing to perform this check efficiently.\n",
    "\n",
    "my_dict = {\"a\": 1, \"b\": 2}\n",
    "\"a\" in my_dict  # Returns True\n",
    "\n",
    "15. Can you modify the elements of a tuple? Explain why or why not.\n",
    "No, you cannot modify the elements of a tuple because tuples are immutable. Once a tuple is created, its contents cannot be altered to ensure data integrity.\n",
    "\n",
    "16. What is a nested dictionary, and give an example of its use case?\n",
    "A nested dictionary is a dictionary where the values themselves are dictionaries. This is useful for representing more complex data structures, like a database or hierarchical information. Example:\n",
    "\n",
    "\n",
    "students = {\n",
    "    \"John\": {\"age\": 15, \"grade\": \"10th\"},\n",
    "    \"Jane\": {\"age\": 14, \"grade\": \"9th\"}\n",
    "}\n",
    "\n",
    "17. Describe the time complexity of accessing elements in a dictionary.\n",
    "Accessing an element in a dictionary by key has an average time complexity of O(1), which means it is done in constant time.\n",
    "\n",
    "18. In what situations are lists preferred over dictionaries?\n",
    "Lists are preferred when you need to store ordered collections of items that may contain duplicates and when you need to access elements by their position (index). Lists are also useful when you don’t need to map keys to values.\n",
    "\n",
    "19. Why are dictionaries considered unordered, and how does that affect data retrieval?\n",
    "Dictionaries are considered unordered because, before Python 3.7, there was no guarantee about the order of items in a dictionary. Starting with Python 3.7, dictionaries maintain insertion order, but they are still not indexed like lists. This means data retrieval is based on keys rather than positions.\n",
    "\n",
    "20. Explain the difference between a list and a dictionary in terms of data retrieval.\n",
    "In a list, data is retrieved using an index (position), and elements are ordered.\n",
    "\n",
    "\n",
    "my_list = [10, 20, 30]\n",
    "my_list[1]  # Accesses 20\n",
    "In a dictionary, data is retrieved using a key, and the key-value pairs are unordered (though insertion order is maintained in modern Python versions).\n",
    "\n",
    "\n",
    "my_dict = {\"a\": 10, \"b\": 20}\n",
    "my_dict[\"a\"]  # Accesses 10\n",
    "\n",
    "\n",
    "\n"
   ]
  },
  {
   "cell_type": "code",
   "execution_count": 3,
   "id": "df49645a-20ee-4a54-8b92-6d9c6c441513",
   "metadata": {},
   "outputs": [
    {
     "name": "stdout",
     "output_type": "stream",
     "text": [
      "Laya\n"
     ]
    }
   ],
   "source": [
    "#1 Write a code to create a string with your name and print it.\n",
    "\n",
    "name= \"Laya\"\n",
    "print(name)"
   ]
  },
  {
   "cell_type": "code",
   "execution_count": 5,
   "id": "f08e4a96-9200-4f70-8d52-eac2dc662a6c",
   "metadata": {},
   "outputs": [
    {
     "data": {
      "text/plain": [
       "11"
      ]
     },
     "execution_count": 5,
     "metadata": {},
     "output_type": "execute_result"
    }
   ],
   "source": [
    "#2 Write a code to find the length of the string \"Hello World\n",
    "\n",
    "a= \"Hello World\"\n",
    "b =len(a)\n",
    "b"
   ]
  },
  {
   "cell_type": "code",
   "execution_count": 11,
   "id": "7f9eb3a4-2be7-4f45-b1ae-8e289651c526",
   "metadata": {},
   "outputs": [
    {
     "data": {
      "text/plain": [
       "'Pyt'"
      ]
     },
     "execution_count": 11,
     "metadata": {},
     "output_type": "execute_result"
    }
   ],
   "source": [
    "#3 Write a code to slice the first 3 characters from the string \"Python Programming\"\n",
    "\n",
    "word = \"Python Programming\"\n",
    "sliced_word = word[:3]\n",
    "sliced_word"
   ]
  },
  {
   "cell_type": "code",
   "execution_count": 13,
   "id": "e225ead5-64aa-446f-8369-d47da576cc15",
   "metadata": {},
   "outputs": [
    {
     "data": {
      "text/plain": [
       "'HELLO'"
      ]
     },
     "execution_count": 13,
     "metadata": {},
     "output_type": "execute_result"
    }
   ],
   "source": [
    "#4 Write a code to convert the string \"hello\" to uppercase\n",
    "\n",
    "lower_string = \"hello\"\n",
    "new_string = lower_string.upper()\n",
    "new_string"
   ]
  },
  {
   "cell_type": "code",
   "execution_count": 17,
   "id": "a9f089d9-7dab-4605-8d98-34693fbda079",
   "metadata": {},
   "outputs": [
    {
     "data": {
      "text/plain": [
       "' i like orange'"
      ]
     },
     "execution_count": 17,
     "metadata": {},
     "output_type": "execute_result"
    }
   ],
   "source": [
    "#5 Write code to replace the word apple with orange' in the string \"1 like apple\"\n",
    "\n",
    "my_string= \" i like apple\"\n",
    "new_string= my_string.replace(\"apple\", \"orange\")\n",
    "new_string                            \n",
    "                            "
   ]
  },
  {
   "cell_type": "code",
   "execution_count": 21,
   "id": "46932a07-70ba-4a38-9ebe-1fbad48857cc",
   "metadata": {},
   "outputs": [
    {
     "data": {
      "text/plain": [
       "[1, 2, 3, 4, 5]"
      ]
     },
     "execution_count": 21,
     "metadata": {},
     "output_type": "execute_result"
    }
   ],
   "source": [
    "#6 Write a code to create list with numbers 1to 5 and print it.\n",
    "\n",
    "my_list = [1,2,3,4,5]\n",
    "my_list"
   ]
  },
  {
   "cell_type": "code",
   "execution_count": 23,
   "id": "9cbf6192-bf6f-4e02-9bc1-d676bab24240",
   "metadata": {},
   "outputs": [
    {
     "data": {
      "text/plain": [
       "[1, 2, 3, 4, 10]"
      ]
     },
     "execution_count": 23,
     "metadata": {},
     "output_type": "execute_result"
    }
   ],
   "source": [
    "#7 Write a code to append the number 10 to the list [1,2,3, 4)\n",
    "\n",
    "my_list = [1,2,3,4]\n",
    "my_list.append(10)\n",
    "my_list"
   ]
  },
  {
   "cell_type": "code",
   "execution_count": 25,
   "id": "d449dde2-f2f6-4836-8edd-924d9d125962",
   "metadata": {},
   "outputs": [
    {
     "data": {
      "text/plain": [
       "[1, 2, 4, 5]"
      ]
     },
     "execution_count": 25,
     "metadata": {},
     "output_type": "execute_result"
    }
   ],
   "source": [
    "#8 Write a code to remove the number 3 from the list [1, 2, 3, 4, 5]\n",
    "\n",
    "my_list = [1, 2, 3, 4, 5]\n",
    "my_list.remove(3)\n",
    "my_list"
   ]
  },
  {
   "cell_type": "code",
   "execution_count": 37,
   "id": "103cb353-74c5-4635-bcf4-2cbb0af01e02",
   "metadata": {},
   "outputs": [
    {
     "name": "stdout",
     "output_type": "stream",
     "text": [
      "b\n"
     ]
    }
   ],
   "source": [
    "#9 write a code to acces the second element in the list ['a', 'b', 'c', 'd']\n",
    "\n",
    "\n",
    "my_list = ['a', 'b', 'c', 'd']\n",
    "\n",
    "\n",
    "second_element = my_list[1]\n",
    "\n",
    "print(second_element)"
   ]
  },
  {
   "cell_type": "code",
   "execution_count": 43,
   "id": "3b5f189c-045c-4ea6-a1fd-03dcf7769545",
   "metadata": {},
   "outputs": [
    {
     "data": {
      "text/plain": [
       "[50, 40, 30, 20, 10]"
      ]
     },
     "execution_count": 43,
     "metadata": {},
     "output_type": "execute_result"
    }
   ],
   "source": [
    "#10 write a code to reverse the list [10, 20, 30, 40, 50]\n",
    "\n",
    "my_list = [10, 20, 30, 40, 50]\n",
    "reversed_list = my_list[::-1]\n",
    "reversed_list"
   ]
  },
  {
   "cell_type": "code",
   "execution_count": 47,
   "id": "180431bc-23d6-46d6-8109-c8e5a485065d",
   "metadata": {},
   "outputs": [
    {
     "data": {
      "text/plain": [
       "(10, 20, 30)"
      ]
     },
     "execution_count": 47,
     "metadata": {},
     "output_type": "execute_result"
    }
   ],
   "source": [
    "#11 write code to create tuple with the elements 10, 20, 30 and print it\n",
    "\n",
    "my_tuple = (10, 20, 30)\n",
    "my_tuple"
   ]
  },
  {
   "cell_type": "code",
   "execution_count": 51,
   "id": "f22a6062-aedb-4012-90b4-91b3df8af0a8",
   "metadata": {},
   "outputs": [
    {
     "data": {
      "text/plain": [
       "'apple'"
      ]
     },
     "execution_count": 51,
     "metadata": {},
     "output_type": "execute_result"
    }
   ],
   "source": [
    "#12 write a code to acces first element of tuple ('apple', 'banana', 'cherry')\n",
    "\n",
    "my_tuple = ('apple', 'banana', 'cherry')\n",
    "first_element = my_tuple[0]\n",
    "first_element"
   ]
  },
  {
   "cell_type": "code",
   "execution_count": 53,
   "id": "7599003d-cc6e-4aed-ae0d-89d03f00c7d4",
   "metadata": {},
   "outputs": [
    {
     "name": "stdout",
     "output_type": "stream",
     "text": [
      "3\n"
     ]
    }
   ],
   "source": [
    "#13 write a code to count how many times the number 2 appear in the tuple(1, 2, 3, 2, 4, 2)\n",
    "\n",
    "my_tuple = (1, 2, 3, 2, 4, 2)\n",
    "count_of_2 = my_tuple.count(2)\n",
    "\n",
    "# Printing the count\n",
    "print(count_of_2)"
   ]
  },
  {
   "cell_type": "code",
   "execution_count": 55,
   "id": "10350dd1-88e5-48bc-926f-90a770e0ebf7",
   "metadata": {},
   "outputs": [
    {
     "name": "stdout",
     "output_type": "stream",
     "text": [
      "1\n"
     ]
    }
   ],
   "source": [
    "#14 write a code to find the index element \"cat\" in tuple('dog', 'cat', 'rabbit')\n",
    "\n",
    "my_tuple = ('dog', 'cat', 'rabbit')\n",
    "index_of_cat = my_tuple.index('cat')\n",
    "\n",
    "# Printing the index\n",
    "print(index_of_cat)"
   ]
  },
  {
   "cell_type": "code",
   "execution_count": 57,
   "id": "d33f6102-83c6-4763-b0b6-cf8433fc254f",
   "metadata": {},
   "outputs": [
    {
     "name": "stdout",
     "output_type": "stream",
     "text": [
      "True\n"
     ]
    }
   ],
   "source": [
    "#15 write a code to check if the element `\" banana\" is in the tuple ('apple', 'orange', 'banana')\n",
    "\n",
    "my_tuple = ('apple', 'orange', 'banana')\n",
    "is_banana_in_tuple = \"banana\" in my_tuple\n",
    "\n",
    "# Printing the result\n",
    "print(is_banana_in_tuple)"
   ]
  },
  {
   "cell_type": "code",
   "execution_count": 59,
   "id": "1775981f-b9bb-412e-a285-b9fda2c3f6ab",
   "metadata": {},
   "outputs": [
    {
     "data": {
      "text/plain": [
       "{1, 2, 3, 4, 5}"
      ]
     },
     "execution_count": 59,
     "metadata": {},
     "output_type": "execute_result"
    }
   ],
   "source": [
    "#16 Write a code to create a set with the elements 1, 2, 3, 4, 5 and print it\n",
    "\n",
    "my_set = {1, 2, 3, 4, 5}\n",
    "my_set"
   ]
  },
  {
   "cell_type": "code",
   "execution_count": 61,
   "id": "9f92842f-c7ef-476e-9d0b-dd9356564226",
   "metadata": {},
   "outputs": [
    {
     "data": {
      "text/plain": [
       "{1, 2, 3, 4, 6}"
      ]
     },
     "execution_count": 61,
     "metadata": {},
     "output_type": "execute_result"
    }
   ],
   "source": [
    "#17 Write a code to add the element 6 to the set {1, 2, 3, 4).\n",
    "\n",
    "my_set = {1, 2, 3, 4}\n",
    "my_set.add(6)\n",
    "my_set"
   ]
  },
  {
   "cell_type": "code",
   "execution_count": 63,
   "id": "b6e28655-289d-450c-ba8f-29842358d67d",
   "metadata": {},
   "outputs": [
    {
     "data": {
      "text/plain": [
       "(10, 20, 30)"
      ]
     },
     "execution_count": 63,
     "metadata": {},
     "output_type": "execute_result"
    }
   ],
   "source": [
    "#18  Write a code to create a tuple with the elements 10, 20, 30 and print it\n",
    "\n",
    "my_tuple = (10, 20, 30)\n",
    "my_tuple"
   ]
  },
  {
   "cell_type": "code",
   "execution_count": 67,
   "id": "f4acf82a-e93f-4b64-a0b8-28eefbbf5273",
   "metadata": {},
   "outputs": [
    {
     "data": {
      "text/plain": [
       "'apple'"
      ]
     },
     "execution_count": 67,
     "metadata": {},
     "output_type": "execute_result"
    }
   ],
   "source": [
    "#19 Write a code to access the first element of the tuple ('apple', 'banana', 'cherry)\n",
    "\n",
    "my_tuple = ('apple', 'orange', 'banana')\n",
    "first_element = my_tuple[0]\n",
    "first_element"
   ]
  },
  {
   "cell_type": "code",
   "execution_count": 73,
   "id": "73e75947-610b-40c6-8369-5fbd5a8a1d49",
   "metadata": {},
   "outputs": [
    {
     "name": "stdout",
     "output_type": "stream",
     "text": [
      "3\n"
     ]
    }
   ],
   "source": [
    "#20 Write a code to count how many times the number 2 appears in the tuple\n",
    "(1,2,3,2, 4,2)\n",
    "\n",
    "my_tuple = (1, 2, 3, 2, 4, 2)\n",
    "count_of_2 = my_tuple.count(2)\n",
    "\n",
    "# Printing the count\n",
    "print(count_of_2)"
   ]
  },
  {
   "cell_type": "code",
   "execution_count": 75,
   "id": "89969d3e-a2dd-4a47-ada4-0603d79dca1c",
   "metadata": {},
   "outputs": [
    {
     "name": "stdout",
     "output_type": "stream",
     "text": [
      "1\n"
     ]
    }
   ],
   "source": [
    "#21 Write a code to find the index of the element 'cat' in the tuple ('dog', cat', 'rabbit')\n",
    "\n",
    "my_tuple = ('dog', 'cat', 'rabbit')\n",
    "index_of_cat = my_tuple.index('cat')\n",
    "\n",
    "# Printing the index\n",
    "print(index_of_cat)"
   ]
  },
  {
   "cell_type": "code",
   "execution_count": 77,
   "id": "630fa165-3567-46e5-8608-79a93a1594b9",
   "metadata": {},
   "outputs": [
    {
     "name": "stdout",
     "output_type": "stream",
     "text": [
      "True\n"
     ]
    }
   ],
   "source": [
    "#22 Write a code to check if the element \"banana\" is in the tuple ('apple', 'orange', 'banana).\n",
    "\n",
    "my_tuple = ('apple', 'orange', 'banana')\n",
    "is_banana_in_tuple = \"banana\" in my_tuple\n",
    "\n",
    "# Printing the result\n",
    "print(is_banana_in_tuple)"
   ]
  },
  {
   "cell_type": "code",
   "execution_count": 79,
   "id": "80c6b36f-c1a6-4dd2-8284-a7ee4dc6b946",
   "metadata": {},
   "outputs": [
    {
     "data": {
      "text/plain": [
       "{1, 2, 3, 4, 5}"
      ]
     },
     "execution_count": 79,
     "metadata": {},
     "output_type": "execute_result"
    }
   ],
   "source": [
    "#23 Write a code to create set with the elements 1,2,3 4, 5 and print it.\n",
    "\n",
    "my_set = {1, 2, 3, 4, 5}\n",
    "my_set"
   ]
  },
  {
   "cell_type": "code",
   "execution_count": 81,
   "id": "b9c8106b-d7c4-4cee-9560-61edf25bb7e3",
   "metadata": {},
   "outputs": [
    {
     "data": {
      "text/plain": [
       "{1, 2, 3, 4, 6}"
      ]
     },
     "execution_count": 81,
     "metadata": {},
     "output_type": "execute_result"
    }
   ],
   "source": [
    "#24 Write a code to add the element 6 to the set (1, 2, 3, 4).\n",
    "\n",
    "my_set = {1, 2, 3, 4}\n",
    "my_set.add(6)\n",
    "my_set"
   ]
  },
  {
   "cell_type": "code",
   "execution_count": null,
   "id": "df33ec32-2480-42bb-bfde-ae89483aa84b",
   "metadata": {},
   "outputs": [],
   "source": []
  }
 ],
 "metadata": {
  "kernelspec": {
   "display_name": "Python 3 (ipykernel)",
   "language": "python",
   "name": "python3"
  },
  "language_info": {
   "codemirror_mode": {
    "name": "ipython",
    "version": 3
   },
   "file_extension": ".py",
   "mimetype": "text/x-python",
   "name": "python",
   "nbconvert_exporter": "python",
   "pygments_lexer": "ipython3",
   "version": "3.12.7"
  }
 },
 "nbformat": 4,
 "nbformat_minor": 5
}
